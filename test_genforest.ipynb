{
 "cells": [
  {
   "cell_type": "code",
   "execution_count": 9,
   "id": "d02bb190-ef17-4b69-a3ae-4bccad8d349a",
   "metadata": {},
   "outputs": [],
   "source": [
    "import pandas as pd\n",
    "import numpy as np\n",
    "import matplotlib.pyplot as plt\n",
    "import seaborn as sns\n",
    "\n",
    "from tqdm.notebook import tqdm, trange\n",
    "from genforest import GenForest, accuracy\n",
    "\n",
    "from sklearn.datasets import load_wine\n",
    "from sklearn.datasets import load_iris\n",
    "from sklearn.model_selection import train_test_split\n",
    "from sklearn.ensemble import RandomForestClassifier\n",
    "from sklearn.preprocessing import StandardScaler\n",
    "from sklearn.utils import resample\n",
    "from sklearn.model_selection import KFold\n",
    "from sklearn.metrics import recall_score\n",
    "\n",
    "palette = [\"#0b132b\", \"#5bc0be\", \"#88d4ab\", \"#036666\", \"#4CC9F0\"]\n",
    "sns.set_theme(style='whitegrid', palette=palette)\n",
    "\n",
    "seed = 123"
   ]
  },
  {
   "cell_type": "markdown",
   "id": "934a3887-822a-48d5-be25-9c578741465f",
   "metadata": {},
   "source": [
    "# **Wine**"
   ]
  },
  {
   "cell_type": "code",
   "execution_count": 10,
   "id": "f1acfd42-8e33-4dfe-b06a-108c9baa512d",
   "metadata": {},
   "outputs": [],
   "source": [
    "data = load_wine()\n",
    "\n",
    "df = pd.DataFrame(data['data'], columns=data['feature_names'])\n",
    "Y = data['target']\n",
    "X = df.to_numpy()\n",
    "\n",
    "features = data['feature_names']\n",
    "targets = data['target_names']    "
   ]
  },
  {
   "cell_type": "code",
   "execution_count": 11,
   "id": "618b3a32-647d-47e9-b999-04751a230bbd",
   "metadata": {},
   "outputs": [
    {
     "data": {
      "application/vnd.jupyter.widget-view+json": {
       "model_id": "52191489e7c0479c90dee90dd91d53dd",
       "version_major": 2,
       "version_minor": 0
      },
      "text/plain": [
       "Eval Model:   0%|          | 0/10 [00:00<?, ?it/s]"
      ]
     },
     "metadata": {},
     "output_type": "display_data"
    },
    {
     "data": {
      "application/vnd.jupyter.widget-view+json": {
       "model_id": "2afe1afe09ad434cb8213cb8ba380842",
       "version_major": 2,
       "version_minor": 0
      },
      "text/plain": [
       "Resample:   0%|          | 0/200 [00:00<?, ?it/s]"
      ]
     },
     "metadata": {},
     "output_type": "display_data"
    },
    {
     "data": {
      "application/vnd.jupyter.widget-view+json": {
       "model_id": "934889113ff34a0db863d61b68a643c1",
       "version_major": 2,
       "version_minor": 0
      },
      "text/plain": [
       "Train Model ::   0%|          | 0/100 [00:00<?, ?it/s]"
      ]
     },
     "metadata": {},
     "output_type": "display_data"
    },
    {
     "data": {
      "application/vnd.jupyter.widget-view+json": {
       "model_id": "de2d0989fc6a4120bc9efe70b8a77381",
       "version_major": 2,
       "version_minor": 0
      },
      "text/plain": [
       "Resample:   0%|          | 0/200 [00:00<?, ?it/s]"
      ]
     },
     "metadata": {},
     "output_type": "display_data"
    },
    {
     "data": {
      "application/vnd.jupyter.widget-view+json": {
       "model_id": "a98b85113a8148c29d76691670b203e4",
       "version_major": 2,
       "version_minor": 0
      },
      "text/plain": [
       "Train Model ::   0%|          | 0/100 [00:00<?, ?it/s]"
      ]
     },
     "metadata": {},
     "output_type": "display_data"
    },
    {
     "data": {
      "application/vnd.jupyter.widget-view+json": {
       "model_id": "6b0b894071b645a8a3edd55ffc4b6cdd",
       "version_major": 2,
       "version_minor": 0
      },
      "text/plain": [
       "Resample:   0%|          | 0/200 [00:00<?, ?it/s]"
      ]
     },
     "metadata": {},
     "output_type": "display_data"
    },
    {
     "data": {
      "application/vnd.jupyter.widget-view+json": {
       "model_id": "799c1b27c5ca452ea6a6051513187bf8",
       "version_major": 2,
       "version_minor": 0
      },
      "text/plain": [
       "Train Model ::   0%|          | 0/100 [00:00<?, ?it/s]"
      ]
     },
     "metadata": {},
     "output_type": "display_data"
    },
    {
     "data": {
      "application/vnd.jupyter.widget-view+json": {
       "model_id": "9aa96f85490c4959a3d04df23ac20fcb",
       "version_major": 2,
       "version_minor": 0
      },
      "text/plain": [
       "Resample:   0%|          | 0/200 [00:00<?, ?it/s]"
      ]
     },
     "metadata": {},
     "output_type": "display_data"
    },
    {
     "data": {
      "application/vnd.jupyter.widget-view+json": {
       "model_id": "b0d202b7c4e240e4972c754ad83638a6",
       "version_major": 2,
       "version_minor": 0
      },
      "text/plain": [
       "Train Model ::   0%|          | 0/100 [00:00<?, ?it/s]"
      ]
     },
     "metadata": {},
     "output_type": "display_data"
    },
    {
     "data": {
      "application/vnd.jupyter.widget-view+json": {
       "model_id": "2cbf8cfee77e4dd5929bb86d876a4afc",
       "version_major": 2,
       "version_minor": 0
      },
      "text/plain": [
       "Resample:   0%|          | 0/200 [00:00<?, ?it/s]"
      ]
     },
     "metadata": {},
     "output_type": "display_data"
    },
    {
     "data": {
      "application/vnd.jupyter.widget-view+json": {
       "model_id": "895f7317336c4e1589131019cf4909b1",
       "version_major": 2,
       "version_minor": 0
      },
      "text/plain": [
       "Train Model ::   0%|          | 0/100 [00:00<?, ?it/s]"
      ]
     },
     "metadata": {},
     "output_type": "display_data"
    },
    {
     "data": {
      "application/vnd.jupyter.widget-view+json": {
       "model_id": "29904047807d4e649fb1be2c63cc2d93",
       "version_major": 2,
       "version_minor": 0
      },
      "text/plain": [
       "Resample:   0%|          | 0/200 [00:00<?, ?it/s]"
      ]
     },
     "metadata": {},
     "output_type": "display_data"
    },
    {
     "data": {
      "application/vnd.jupyter.widget-view+json": {
       "model_id": "957226ed50274ef9932a3ddaa81b1e50",
       "version_major": 2,
       "version_minor": 0
      },
      "text/plain": [
       "Train Model ::   0%|          | 0/100 [00:00<?, ?it/s]"
      ]
     },
     "metadata": {},
     "output_type": "display_data"
    },
    {
     "data": {
      "application/vnd.jupyter.widget-view+json": {
       "model_id": "5b6834e4674d492bb7a3af9a261a85bd",
       "version_major": 2,
       "version_minor": 0
      },
      "text/plain": [
       "Resample:   0%|          | 0/200 [00:00<?, ?it/s]"
      ]
     },
     "metadata": {},
     "output_type": "display_data"
    },
    {
     "data": {
      "application/vnd.jupyter.widget-view+json": {
       "model_id": "3e2a140655be430dacd854f974cbd58c",
       "version_major": 2,
       "version_minor": 0
      },
      "text/plain": [
       "Train Model ::   0%|          | 0/100 [00:00<?, ?it/s]"
      ]
     },
     "metadata": {},
     "output_type": "display_data"
    },
    {
     "data": {
      "application/vnd.jupyter.widget-view+json": {
       "model_id": "c1a8f09b14f947bcae5b5f952cd5921a",
       "version_major": 2,
       "version_minor": 0
      },
      "text/plain": [
       "Resample:   0%|          | 0/200 [00:00<?, ?it/s]"
      ]
     },
     "metadata": {},
     "output_type": "display_data"
    },
    {
     "data": {
      "application/vnd.jupyter.widget-view+json": {
       "model_id": "d213cb1bfdb145cc96e6004ecc7bed81",
       "version_major": 2,
       "version_minor": 0
      },
      "text/plain": [
       "Train Model ::   0%|          | 0/100 [00:00<?, ?it/s]"
      ]
     },
     "metadata": {},
     "output_type": "display_data"
    },
    {
     "data": {
      "application/vnd.jupyter.widget-view+json": {
       "model_id": "3980a0c7f3aa4567a2326846db150399",
       "version_major": 2,
       "version_minor": 0
      },
      "text/plain": [
       "Resample:   0%|          | 0/200 [00:00<?, ?it/s]"
      ]
     },
     "metadata": {},
     "output_type": "display_data"
    },
    {
     "data": {
      "application/vnd.jupyter.widget-view+json": {
       "model_id": "6a22642348b14ebca36c5af0051bdff0",
       "version_major": 2,
       "version_minor": 0
      },
      "text/plain": [
       "Train Model ::   0%|          | 0/100 [00:00<?, ?it/s]"
      ]
     },
     "metadata": {},
     "output_type": "display_data"
    },
    {
     "data": {
      "application/vnd.jupyter.widget-view+json": {
       "model_id": "949d24400c6848dca4a80b9b1e5a75f7",
       "version_major": 2,
       "version_minor": 0
      },
      "text/plain": [
       "Resample:   0%|          | 0/200 [00:00<?, ?it/s]"
      ]
     },
     "metadata": {},
     "output_type": "display_data"
    },
    {
     "data": {
      "application/vnd.jupyter.widget-view+json": {
       "model_id": "9345bb9883ad43ed986ca4eade6688fd",
       "version_major": 2,
       "version_minor": 0
      },
      "text/plain": [
       "Train Model ::   0%|          | 0/100 [00:00<?, ?it/s]"
      ]
     },
     "metadata": {},
     "output_type": "display_data"
    },
    {
     "name": "stdout",
     "output_type": "stream",
     "text": [
      "\n",
      "\n",
      "Best-Gen \tmean :: 0.9444444444444444\tstd :: 0.08606629658238704\n",
      "Pond-Gen \tmean :: 0.9277777777777778\tstd :: 0.13619611857923625\n",
      "RFort-Gen \tmean :: 0.9607843137254901\tstd :: 0.05011840395472111\n",
      "=========================================================================== \n",
      "\n"
     ]
    },
    {
     "data": {
      "image/png": "[encoded data removed]",
      "text/plain": [
       "<Figure size 640x480 with 1 Axes>"
      ]
     },
     "metadata": {},
     "output_type": "display_data"
    }
   ],
   "source": [
    "best_gen_acc = []\n",
    "gen_acc = []\n",
    "rf_acc = []\n",
    "\n",
    "n_folds = 10\n",
    "kf = KFold(n_splits=n_folds)\n",
    "\n",
    "for train_index, test_index in tqdm(kf.split(X), desc='Eval Model', total=n_folds):\n",
    "    x_train, x_test = X[train_index], X[test_index]\n",
    "    y_train, y_test = Y[train_index], Y[test_index]\n",
    "\n",
    "    scaler = StandardScaler()\n",
    "    scaler.fit(x_train)\n",
    "\n",
    "    x_train = scaler.transform(x_train)\n",
    "    x_test = scaler.transform(x_test)\n",
    "\n",
    "    model = GenForest(features, targets,\n",
    "                      n_species=100, n_features=np.random.randint(6, 10),\n",
    "                      n_agents=200, epochs=200,\n",
    "                      n_deaths=5, rounds_deaths=20)\n",
    "    model.fit(x_train, y_train)\n",
    "\n",
    "    \n",
    "    pred = model.predict(x_test, bests=True)\n",
    "    best_gen_acc.append(accuracy(pred, y_test))\n",
    "\n",
    "    pred = model.predict(x_test)\n",
    "    gen_acc.append(accuracy(pred, y_test))\n",
    "\n",
    "    \n",
    "    rfc = RandomForestClassifier(n_estimators=100,\n",
    "                                 random_state=seed,\n",
    "                                 bootstrap=True)\n",
    "    \n",
    "    rfc.fit(x_train, y_train)\n",
    "    pred = rfc.predict(x_test)\n",
    "    rf_acc.append(accuracy(pred, y_test))\n",
    "\n",
    "print(f'\\n\\nBest-Gen \\tmean :: {np.mean(best_gen_acc)}\\tstd :: {np.std(best_gen_acc)}')\n",
    "print(f'Pond-Gen \\tmean :: {np.mean(gen_acc)}\\tstd :: {np.std(gen_acc)}')\n",
    "print(f'RFort-Gen \\tmean :: {np.mean(rf_acc)}\\tstd :: {np.std(rf_acc)}')\n",
    "print('=' * 75, '\\n')\n",
    "\n",
    "plt.plot(best_gen_acc, label='Best')\n",
    "plt.plot(gen_acc, label='Ponderate')\n",
    "plt.plot(rf_acc, label='RForest')\n",
    "\n",
    "plt.legend()\n",
    "plt.show()"
   ]
  },
  {
   "cell_type": "markdown",
   "id": "e8921983-0956-4339-b816-f3371b925cb0",
   "metadata": {},
   "source": [
    "# **Iris**"
   ]
  },
  {
   "cell_type": "code",
   "execution_count": 12,
   "id": "0c06d628-a189-4d0a-8289-863bab4a4ad6",
   "metadata": {},
   "outputs": [],
   "source": [
    "data = load_iris()\n",
    "\n",
    "X = data['data']\n",
    "Y = data['target']\n",
    "features = data['feature_names']\n",
    "targets = np.array([f'class_{x}' for x in np.unique(Y)])"
   ]
  },
  {
   "cell_type": "code",
   "execution_count": 13,
   "id": "12fdb95a-3f36-408b-97db-92f35e6918a1",
   "metadata": {},
   "outputs": [
    {
     "data": {
      "application/vnd.jupyter.widget-view+json": {
       "model_id": "54b7a331f953430e9ffdaba1f6e22772",
       "version_major": 2,
       "version_minor": 0
      },
      "text/plain": [
       "Eval Model:   0%|          | 0/10 [00:00<?, ?it/s]"
      ]
     },
     "metadata": {},
     "output_type": "display_data"
    },
    {
     "data": {
      "application/vnd.jupyter.widget-view+json": {
       "model_id": "fc0bd135e2174d8399b54ed5796ebb1c",
       "version_major": 2,
       "version_minor": 0
      },
      "text/plain": [
       "Resample:   0%|          | 0/200 [00:00<?, ?it/s]"
      ]
     },
     "metadata": {},
     "output_type": "display_data"
    },
    {
     "data": {
      "application/vnd.jupyter.widget-view+json": {
       "model_id": "617b79fb109f4e27aff8bbed0fa9e53b",
       "version_major": 2,
       "version_minor": 0
      },
      "text/plain": [
       "Train Model ::   0%|          | 0/100 [00:00<?, ?it/s]"
      ]
     },
     "metadata": {},
     "output_type": "display_data"
    },
    {
     "data": {
      "application/vnd.jupyter.widget-view+json": {
       "model_id": "dbcef95ed9324254916aebb1572bdeb3",
       "version_major": 2,
       "version_minor": 0
      },
      "text/plain": [
       "Resample:   0%|          | 0/200 [00:00<?, ?it/s]"
      ]
     },
     "metadata": {},
     "output_type": "display_data"
    },
    {
     "data": {
      "application/vnd.jupyter.widget-view+json": {
       "model_id": "5bbcf4363e444e91b47d04ae6494568a",
       "version_major": 2,
       "version_minor": 0
      },
      "text/plain": [
       "Train Model ::   0%|          | 0/100 [00:00<?, ?it/s]"
      ]
     },
     "metadata": {},
     "output_type": "display_data"
    },
    {
     "data": {
      "application/vnd.jupyter.widget-view+json": {
       "model_id": "7e7dcca5594841f8a028782e3690ffa8",
       "version_major": 2,
       "version_minor": 0
      },
      "text/plain": [
       "Resample:   0%|          | 0/200 [00:00<?, ?it/s]"
      ]
     },
     "metadata": {},
     "output_type": "display_data"
    },
    {
     "data": {
      "application/vnd.jupyter.widget-view+json": {
       "model_id": "9b4cc796b01d44f68896cf908b23e98a",
       "version_major": 2,
       "version_minor": 0
      },
      "text/plain": [
       "Train Model ::   0%|          | 0/100 [00:00<?, ?it/s]"
      ]
     },
     "metadata": {},
     "output_type": "display_data"
    },
    {
     "data": {
      "application/vnd.jupyter.widget-view+json": {
       "model_id": "5a3efd7f1ac2456fa7393033d61414c5",
       "version_major": 2,
       "version_minor": 0
      },
      "text/plain": [
       "Resample:   0%|          | 0/200 [00:00<?, ?it/s]"
      ]
     },
     "metadata": {},
     "output_type": "display_data"
    },
    {
     "data": {
      "application/vnd.jupyter.widget-view+json": {
       "model_id": "5bd633b5008847d381a05710b87e2f52",
       "version_major": 2,
       "version_minor": 0
      },
      "text/plain": [
       "Train Model ::   0%|          | 0/100 [00:00<?, ?it/s]"
      ]
     },
     "metadata": {},
     "output_type": "display_data"
    },
    {
     "data": {
      "application/vnd.jupyter.widget-view+json": {
       "model_id": "77fbdab817d04f8fa822f7059e379d6d",
       "version_major": 2,
       "version_minor": 0
      },
      "text/plain": [
       "Resample:   0%|          | 0/200 [00:00<?, ?it/s]"
      ]
     },
     "metadata": {},
     "output_type": "display_data"
    },
    {
     "data": {
      "application/vnd.jupyter.widget-view+json": {
       "model_id": "b63f96e927b146499debf977dde18051",
       "version_major": 2,
       "version_minor": 0
      },
      "text/plain": [
       "Train Model ::   0%|          | 0/100 [00:00<?, ?it/s]"
      ]
     },
     "metadata": {},
     "output_type": "display_data"
    },
    {
     "data": {
      "application/vnd.jupyter.widget-view+json": {
       "model_id": "9a6ed3d4182a4c40a1cd08bb910a80e1",
       "version_major": 2,
       "version_minor": 0
      },
      "text/plain": [
       "Resample:   0%|          | 0/200 [00:00<?, ?it/s]"
      ]
     },
     "metadata": {},
     "output_type": "display_data"
    },
    {
     "data": {
      "application/vnd.jupyter.widget-view+json": {
       "model_id": "d0f36229e18e46b0866645fff6ceb8f0",
       "version_major": 2,
       "version_minor": 0
      },
      "text/plain": [
       "Train Model ::   0%|          | 0/100 [00:00<?, ?it/s]"
      ]
     },
     "metadata": {},
     "output_type": "display_data"
    },
    {
     "data": {
      "application/vnd.jupyter.widget-view+json": {
       "model_id": "9bbfc7634e354ea985949ffb92c4c4ed",
       "version_major": 2,
       "version_minor": 0
      },
      "text/plain": [
       "Resample:   0%|          | 0/200 [00:00<?, ?it/s]"
      ]
     },
     "metadata": {},
     "output_type": "display_data"
    },
    {
     "data": {
      "application/vnd.jupyter.widget-view+json": {
       "model_id": "248a75b0fd6243e389904a044cb6716f",
       "version_major": 2,
       "version_minor": 0
      },
      "text/plain": [
       "Train Model ::   0%|          | 0/100 [00:00<?, ?it/s]"
      ]
     },
     "metadata": {},
     "output_type": "display_data"
    },
    {
     "data": {
      "application/vnd.jupyter.widget-view+json": {
       "model_id": "1bcc66c34bc841d08a7049e6cdf13036",
       "version_major": 2,
       "version_minor": 0
      },
      "text/plain": [
       "Resample:   0%|          | 0/200 [00:00<?, ?it/s]"
      ]
     },
     "metadata": {},
     "output_type": "display_data"
    },
    {
     "data": {
      "application/vnd.jupyter.widget-view+json": {
       "model_id": "571b40c4c99d4d77b991828ade06e1b4",
       "version_major": 2,
       "version_minor": 0
      },
      "text/plain": [
       "Train Model ::   0%|          | 0/100 [00:00<?, ?it/s]"
      ]
     },
     "metadata": {},
     "output_type": "display_data"
    },
    {
     "data": {
      "application/vnd.jupyter.widget-view+json": {
       "model_id": "aeda08268ed54c9da175d634b6d0efae",
       "version_major": 2,
       "version_minor": 0
      },
      "text/plain": [
       "Resample:   0%|          | 0/200 [00:00<?, ?it/s]"
      ]
     },
     "metadata": {},
     "output_type": "display_data"
    },
    {
     "data": {
      "application/vnd.jupyter.widget-view+json": {
       "model_id": "9a7d1acb0a94408aa37ba0e4b14a5e04",
       "version_major": 2,
       "version_minor": 0
      },
      "text/plain": [
       "Train Model ::   0%|          | 0/100 [00:00<?, ?it/s]"
      ]
     },
     "metadata": {},
     "output_type": "display_data"
    },
    {
     "data": {
      "application/vnd.jupyter.widget-view+json": {
       "model_id": "92a903976e0a4bfcb9566446cf5c34c5",
       "version_major": 2,
       "version_minor": 0
      },
      "text/plain": [
       "Resample:   0%|          | 0/200 [00:00<?, ?it/s]"
      ]
     },
     "metadata": {},
     "output_type": "display_data"
    },
    {
     "data": {
      "application/vnd.jupyter.widget-view+json": {
       "model_id": "4ddf0b72980549c690275aa99ca76f88",
       "version_major": 2,
       "version_minor": 0
      },
      "text/plain": [
       "Train Model ::   0%|          | 0/100 [00:00<?, ?it/s]"
      ]
     },
     "metadata": {},
     "output_type": "display_data"
    },
    {
     "name": "stdout",
     "output_type": "stream",
     "text": [
      "\n",
      "\n",
      "Best-Gen \tmean :: 0.9133333333333333\tstd :: 0.0896908269804914\n",
      "Pond-Gen \tmean :: 0.9466666666666667\tstd :: 0.06531972647421808\n",
      "RFort-Gen \tmean :: 0.9466666666666667\tstd :: 0.07180219742846004\n",
      "=========================================================================== \n",
      "\n"
     ]
    },
    {
     "data": {
      "image/png": "[encoded data removed]",
      "text/plain": [
       "<Figure size 640x480 with 1 Axes>"
      ]
     },
     "metadata": {},
     "output_type": "display_data"
    }
   ],
   "source": [
    "best_gen_acc = []\n",
    "gen_acc = []\n",
    "rf_acc = []\n",
    "\n",
    "n_folds = 10\n",
    "kf = KFold(n_splits=n_folds)\n",
    "\n",
    "for train_index, test_index in tqdm(kf.split(X), desc='Eval Model', total=n_folds):\n",
    "    x_train, x_test = X[train_index], X[test_index]\n",
    "    y_train, y_test = Y[train_index], Y[test_index]\n",
    "\n",
    "    scaler = StandardScaler()\n",
    "    scaler.fit(x_train)\n",
    "\n",
    "    x_train = scaler.transform(x_train)\n",
    "    x_test = scaler.transform(x_test)\n",
    "\n",
    "    model = GenForest(features, targets,\n",
    "                      n_species=100, n_features=8,\n",
    "                      n_agents=200, epochs=200,\n",
    "                      n_deaths=10, rounds_deaths=20)\n",
    "    model.fit(x_train, y_train)\n",
    "\n",
    "    \n",
    "    pred = model.predict(x_test, bests=True)\n",
    "    best_gen_acc.append(accuracy(pred, y_test))\n",
    "\n",
    "    pred = model.predict(x_test)\n",
    "    gen_acc.append(accuracy(pred, y_test))\n",
    "\n",
    "    \n",
    "    rfc = RandomForestClassifier(n_estimators=100,\n",
    "                                 random_state=seed,\n",
    "                                 bootstrap=True)\n",
    "    \n",
    "    rfc.fit(x_train, y_train)\n",
    "    pred = rfc.predict(x_test)\n",
    "    rf_acc.append(accuracy(pred, y_test))\n",
    "\n",
    "print(f'\\n\\nBest-Gen \\tmean :: {np.mean(best_gen_acc)}\\tstd :: {np.std(best_gen_acc)}')\n",
    "print(f'Pond-Gen \\tmean :: {np.mean(gen_acc)}\\tstd :: {np.std(gen_acc)}')\n",
    "print(f'RFort-Gen \\tmean :: {np.mean(rf_acc)}\\tstd :: {np.std(rf_acc)}')\n",
    "print('=' * 75, '\\n')\n",
    "\n",
    "plt.plot(best_gen_acc, label='Best')\n",
    "plt.plot(gen_acc, label='Ponderate')\n",
    "plt.plot(rf_acc, label='RForest')\n",
    "\n",
    "plt.legend()\n",
    "plt.show()"
   ]
  },
  {
   "cell_type": "markdown",
   "id": "ae7524f4-34e1-4a5e-8433-9cafa24a06fb",
   "metadata": {},
   "source": [
    "# **Fetal health**"
   ]
  },
  {
   "cell_type": "code",
   "execution_count": 14,
   "id": "0f6cf0ac-3df3-4a92-bfd5-c0c3a2b6838e",
   "metadata": {},
   "outputs": [],
   "source": [
    "df = pd.read_csv('fetal_health.csv')\n",
    "\n",
    "X = df.iloc[:, :-1].to_numpy()\n",
    "Y = df.iloc[:, -1].to_numpy() - 1\n",
    "\n",
    "features = df.columns.to_list()\n",
    "targets = np.array([f'class_{int(x - 1)}' for x in np.unique(Y)])"
   ]
  },
  {
   "cell_type": "code",
   "execution_count": 15,
   "id": "088d931d-b9e2-43b1-af41-d27fb3229432",
   "metadata": {},
   "outputs": [
    {
     "data": {
      "application/vnd.jupyter.widget-view+json": {
       "model_id": "ab7c4bf772ae42d7b35ad4a615e314f0",
       "version_major": 2,
       "version_minor": 0
      },
      "text/plain": [
       "Eval Model:   0%|          | 0/5 [00:00<?, ?it/s]"
      ]
     },
     "metadata": {},
     "output_type": "display_data"
    },
    {
     "data": {
      "application/vnd.jupyter.widget-view+json": {
       "model_id": "ea8aff650463455b979a6f6ad1ced3c2",
       "version_major": 2,
       "version_minor": 0
      },
      "text/plain": [
       "Resample:   0%|          | 0/200 [00:00<?, ?it/s]"
      ]
     },
     "metadata": {},
     "output_type": "display_data"
    },
    {
     "data": {
      "application/vnd.jupyter.widget-view+json": {
       "model_id": "1e6f5158c1644c6fa30b1eb4de132dae",
       "version_major": 2,
       "version_minor": 0
      },
      "text/plain": [
       "Train Model ::   0%|          | 0/100 [00:00<?, ?it/s]"
      ]
     },
     "metadata": {},
     "output_type": "display_data"
    },
    {
     "data": {
      "application/vnd.jupyter.widget-view+json": {
       "model_id": "b4b50ae7df9c4577bb336a2d9635f09b",
       "version_major": 2,
       "version_minor": 0
      },
      "text/plain": [
       "Resample:   0%|          | 0/200 [00:00<?, ?it/s]"
      ]
     },
     "metadata": {},
     "output_type": "display_data"
    },
    {
     "data": {
      "application/vnd.jupyter.widget-view+json": {
       "model_id": "60159b0207734eff902a9f7539bed52a",
       "version_major": 2,
       "version_minor": 0
      },
      "text/plain": [
       "Train Model ::   0%|          | 0/100 [00:00<?, ?it/s]"
      ]
     },
     "metadata": {},
     "output_type": "display_data"
    },
    {
     "data": {
      "application/vnd.jupyter.widget-view+json": {
       "model_id": "62c8ffc89756493c897496a60b82b504",
       "version_major": 2,
       "version_minor": 0
      },
      "text/plain": [
       "Resample:   0%|          | 0/200 [00:00<?, ?it/s]"
      ]
     },
     "metadata": {},
     "output_type": "display_data"
    },
    {
     "data": {
      "application/vnd.jupyter.widget-view+json": {
       "model_id": "cfa6eff147ca42db99c3148f27936c28",
       "version_major": 2,
       "version_minor": 0
      },
      "text/plain": [
       "Train Model ::   0%|          | 0/100 [00:00<?, ?it/s]"
      ]
     },
     "metadata": {},
     "output_type": "display_data"
    },
    {
     "data": {
      "application/vnd.jupyter.widget-view+json": {
       "model_id": "fb27e3c751a34c839ba8a225efdf3884",
       "version_major": 2,
       "version_minor": 0
      },
      "text/plain": [
       "Resample:   0%|          | 0/200 [00:00<?, ?it/s]"
      ]
     },
     "metadata": {},
     "output_type": "display_data"
    },
    {
     "data": {
      "application/vnd.jupyter.widget-view+json": {
       "model_id": "67f1b800de704ac687bc661af4471ebe",
       "version_major": 2,
       "version_minor": 0
      },
      "text/plain": [
       "Train Model ::   0%|          | 0/100 [00:00<?, ?it/s]"
      ]
     },
     "metadata": {},
     "output_type": "display_data"
    },
    {
     "data": {
      "application/vnd.jupyter.widget-view+json": {
       "model_id": "6cba7af97b064d379dddd5aed5215ef8",
       "version_major": 2,
       "version_minor": 0
      },
      "text/plain": [
       "Resample:   0%|          | 0/200 [00:00<?, ?it/s]"
      ]
     },
     "metadata": {},
     "output_type": "display_data"
    },
    {
     "data": {
      "application/vnd.jupyter.widget-view+json": {
       "model_id": "16dedea26bac4fecabc85d4de43abd35",
       "version_major": 2,
       "version_minor": 0
      },
      "text/plain": [
       "Train Model ::   0%|          | 0/100 [00:00<?, ?it/s]"
      ]
     },
     "metadata": {},
     "output_type": "display_data"
    },
    {
     "name": "stdout",
     "output_type": "stream",
     "text": [
      "\n",
      "\n",
      "Best-Gen \tmean :: 0.763961336647335\tstd :: 0.15739221138091422\n",
      "Pond-Gen \tmean :: 0.6495730461198564\tstd :: 0.18394568268608724\n",
      "RFort-Gen \tmean :: 0.8824258492129247\tstd :: 0.06519864949509102\n",
      "=========================================================================== \n",
      "\n"
     ]
    },
    {
     "data": {
      "image/png": "[encoded data removed]",
      "text/plain": [
       "<Figure size 640x480 with 1 Axes>"
      ]
     },
     "metadata": {},
     "output_type": "display_data"
    }
   ],
   "source": [
    "best_gen_acc = []\n",
    "gen_acc = []\n",
    "rf_acc = []\n",
    "\n",
    "n_folds = 5\n",
    "kf = KFold(n_splits=n_folds)\n",
    "\n",
    "for train_index, test_index in tqdm(kf.split(X), desc='Eval Model', total=n_folds):\n",
    "    x_train, x_test = X[train_index], X[test_index]\n",
    "    y_train, y_test = Y[train_index], Y[test_index]\n",
    "\n",
    "    scaler = StandardScaler()\n",
    "    scaler.fit(x_train)\n",
    "\n",
    "    x_train = scaler.transform(x_train)\n",
    "    x_test = scaler.transform(x_test)\n",
    "\n",
    "    model = GenForest(features, targets,\n",
    "                      n_species=100, n_features=np.random.randint(16, 24),\n",
    "                      n_agents=200, epochs=200,\n",
    "                      n_deaths=10, rounds_deaths=20)\n",
    "    model.fit(x_train, y_train)\n",
    "\n",
    "    \n",
    "    pred = model.predict(x_test, bests=True)\n",
    "    best_gen_acc.append(accuracy(pred, y_test))\n",
    "\n",
    "    pred = model.predict(x_test)\n",
    "    gen_acc.append(accuracy(pred, y_test))\n",
    "\n",
    "    \n",
    "    rfc = RandomForestClassifier(n_estimators=100,\n",
    "                                 random_state=seed,\n",
    "                                 bootstrap=True)\n",
    "    \n",
    "    rfc.fit(x_train, y_train)\n",
    "    pred = rfc.predict(x_test)\n",
    "    rf_acc.append(accuracy(pred, y_test))\n",
    "\n",
    "\n",
    "print(f'\\n\\nBest-Gen \\tmean :: {np.mean(best_gen_acc)}\\tstd :: {np.std(best_gen_acc)}')\n",
    "print(f'Pond-Gen \\tmean :: {np.mean(gen_acc)}\\tstd :: {np.std(gen_acc)}')\n",
    "print(f'RFort-Gen \\tmean :: {np.mean(rf_acc)}\\tstd :: {np.std(rf_acc)}')\n",
    "print('=' * 75, '\\n')\n",
    "\n",
    "plt.plot(best_gen_acc, label='Best')\n",
    "plt.plot(gen_acc, label='Ponderate')\n",
    "plt.plot(rf_acc, label='RForest')\n",
    "\n",
    "plt.legend()\n",
    "plt.show()"
   ]
  },
  {
   "cell_type": "markdown",
   "id": "a47d179b-619b-414a-9872-60f03af12ae1",
   "metadata": {},
   "source": [
    "# **Glass**"
   ]
  },
  {
   "cell_type": "code",
   "execution_count": 34,
   "id": "f8df959b-60ae-4729-9597-1b75d73393f0",
   "metadata": {},
   "outputs": [],
   "source": [
    "df = pd.read_csv('datasets/glass.csv')\n",
    "df.Type = df.Type.map({1:0,\n",
    "                   2:1,\n",
    "                   3:2,\n",
    "                   5:3,\n",
    "                   6:4,\n",
    "                   7:5})\n",
    "df.drop_duplicates(inplace=True)\n",
    "\n",
    "features = df.columns.tolist()\n",
    "targets = np.array(['class_0', 'class_1', 'class_2', 'class_3', 'class_4', 'class_5'])\n",
    "\n",
    "X = df.iloc[:,:-1].to_numpy()\n",
    "Y = df.iloc[:,-1].to_numpy()"
   ]
  },
  {
   "cell_type": "code",
   "execution_count": 35,
   "id": "222e3386-828f-466a-8052-b50eaae0cf27",
   "metadata": {},
   "outputs": [
    {
     "data": {
      "application/vnd.jupyter.widget-view+json": {
       "model_id": "4e2579bd34184940a447a4e84e9568f3",
       "version_major": 2,
       "version_minor": 0
      },
      "text/plain": [
       "Eval Model:   0%|          | 0/10 [00:00<?, ?it/s]"
      ]
     },
     "metadata": {},
     "output_type": "display_data"
    },
    {
     "data": {
      "application/vnd.jupyter.widget-view+json": {
       "model_id": "46642dac6a2947dbaaca2e5621d20f67",
       "version_major": 2,
       "version_minor": 0
      },
      "text/plain": [
       "Resample:   0%|          | 0/200 [00:00<?, ?it/s]"
      ]
     },
     "metadata": {},
     "output_type": "display_data"
    },
    {
     "data": {
      "application/vnd.jupyter.widget-view+json": {
       "model_id": "75a042ade60944738df605f73386afc1",
       "version_major": 2,
       "version_minor": 0
      },
      "text/plain": [
       "Train Model ::   0%|          | 0/100 [00:00<?, ?it/s]"
      ]
     },
     "metadata": {},
     "output_type": "display_data"
    },
    {
     "data": {
      "application/vnd.jupyter.widget-view+json": {
       "model_id": "2d6ea26a35d44823b4c4677b6d6ee5fb",
       "version_major": 2,
       "version_minor": 0
      },
      "text/plain": [
       "Resample:   0%|          | 0/200 [00:00<?, ?it/s]"
      ]
     },
     "metadata": {},
     "output_type": "display_data"
    },
    {
     "data": {
      "application/vnd.jupyter.widget-view+json": {
       "model_id": "4e8602de314e47c5a57f539b42fdb525",
       "version_major": 2,
       "version_minor": 0
      },
      "text/plain": [
       "Train Model ::   0%|          | 0/100 [00:00<?, ?it/s]"
      ]
     },
     "metadata": {},
     "output_type": "display_data"
    },
    {
     "data": {
      "application/vnd.jupyter.widget-view+json": {
       "model_id": "b09b57e7313d4c85844c167c03da8948",
       "version_major": 2,
       "version_minor": 0
      },
      "text/plain": [
       "Resample:   0%|          | 0/200 [00:00<?, ?it/s]"
      ]
     },
     "metadata": {},
     "output_type": "display_data"
    },
    {
     "data": {
      "application/vnd.jupyter.widget-view+json": {
       "model_id": "04558100aec34e848e3cc858bf6e13c3",
       "version_major": 2,
       "version_minor": 0
      },
      "text/plain": [
       "Train Model ::   0%|          | 0/100 [00:00<?, ?it/s]"
      ]
     },
     "metadata": {},
     "output_type": "display_data"
    },
    {
     "data": {
      "application/vnd.jupyter.widget-view+json": {
       "model_id": "22286b56be964c458e3ce82bcd2c1050",
       "version_major": 2,
       "version_minor": 0
      },
      "text/plain": [
       "Resample:   0%|          | 0/200 [00:00<?, ?it/s]"
      ]
     },
     "metadata": {},
     "output_type": "display_data"
    },
    {
     "data": {
      "application/vnd.jupyter.widget-view+json": {
       "model_id": "d95aeaaa43194f71af9108a707a3fd56",
       "version_major": 2,
       "version_minor": 0
      },
      "text/plain": [
       "Train Model ::   0%|          | 0/100 [00:00<?, ?it/s]"
      ]
     },
     "metadata": {},
     "output_type": "display_data"
    },
    {
     "data": {
      "application/vnd.jupyter.widget-view+json": {
       "model_id": "6042733e6e35424993e371e460ef0adf",
       "version_major": 2,
       "version_minor": 0
      },
      "text/plain": [
       "Resample:   0%|          | 0/200 [00:00<?, ?it/s]"
      ]
     },
     "metadata": {},
     "output_type": "display_data"
    },
    {
     "data": {
      "application/vnd.jupyter.widget-view+json": {
       "model_id": "53c68dc26585495db4dfb21191e25995",
       "version_major": 2,
       "version_minor": 0
      },
      "text/plain": [
       "Train Model ::   0%|          | 0/100 [00:00<?, ?it/s]"
      ]
     },
     "metadata": {},
     "output_type": "display_data"
    },
    {
     "data": {
      "application/vnd.jupyter.widget-view+json": {
       "model_id": "f70efc07048f4e0f9d9fe2ad6bc49189",
       "version_major": 2,
       "version_minor": 0
      },
      "text/plain": [
       "Resample:   0%|          | 0/200 [00:00<?, ?it/s]"
      ]
     },
     "metadata": {},
     "output_type": "display_data"
    },
    {
     "data": {
      "application/vnd.jupyter.widget-view+json": {
       "model_id": "2f92802f68db49a58208eaf30270f914",
       "version_major": 2,
       "version_minor": 0
      },
      "text/plain": [
       "Train Model ::   0%|          | 0/100 [00:00<?, ?it/s]"
      ]
     },
     "metadata": {},
     "output_type": "display_data"
    },
    {
     "data": {
      "application/vnd.jupyter.widget-view+json": {
       "model_id": "47245617af1e4f6a84795a895704af3a",
       "version_major": 2,
       "version_minor": 0
      },
      "text/plain": [
       "Resample:   0%|          | 0/200 [00:00<?, ?it/s]"
      ]
     },
     "metadata": {},
     "output_type": "display_data"
    },
    {
     "data": {
      "application/vnd.jupyter.widget-view+json": {
       "model_id": "2592dc93b4ad47678f9776faa2d33f02",
       "version_major": 2,
       "version_minor": 0
      },
      "text/plain": [
       "Train Model ::   0%|          | 0/100 [00:00<?, ?it/s]"
      ]
     },
     "metadata": {},
     "output_type": "display_data"
    },
    {
     "data": {
      "application/vnd.jupyter.widget-view+json": {
       "model_id": "88c035eb981d4038a33c784b47b62a5c",
       "version_major": 2,
       "version_minor": 0
      },
      "text/plain": [
       "Resample:   0%|          | 0/200 [00:00<?, ?it/s]"
      ]
     },
     "metadata": {},
     "output_type": "display_data"
    },
    {
     "data": {
      "application/vnd.jupyter.widget-view+json": {
       "model_id": "1ddb603a16f745feb05cce91abca96e2",
       "version_major": 2,
       "version_minor": 0
      },
      "text/plain": [
       "Train Model ::   0%|          | 0/100 [00:00<?, ?it/s]"
      ]
     },
     "metadata": {},
     "output_type": "display_data"
    },
    {
     "data": {
      "application/vnd.jupyter.widget-view+json": {
       "model_id": "52dcb27f8fb94db7bc185de30dad85b7",
       "version_major": 2,
       "version_minor": 0
      },
      "text/plain": [
       "Resample:   0%|          | 0/200 [00:00<?, ?it/s]"
      ]
     },
     "metadata": {},
     "output_type": "display_data"
    },
    {
     "data": {
      "application/vnd.jupyter.widget-view+json": {
       "model_id": "ec3ee6dd6284482c9ffa3f07bb265a45",
       "version_major": 2,
       "version_minor": 0
      },
      "text/plain": [
       "Train Model ::   0%|          | 0/100 [00:00<?, ?it/s]"
      ]
     },
     "metadata": {},
     "output_type": "display_data"
    },
    {
     "data": {
      "application/vnd.jupyter.widget-view+json": {
       "model_id": "8374c69b17734375b70456b94dafa2af",
       "version_major": 2,
       "version_minor": 0
      },
      "text/plain": [
       "Resample:   0%|          | 0/200 [00:00<?, ?it/s]"
      ]
     },
     "metadata": {},
     "output_type": "display_data"
    },
    {
     "data": {
      "application/vnd.jupyter.widget-view+json": {
       "model_id": "99cbb36ecaaf474dba78c46fee639fbe",
       "version_major": 2,
       "version_minor": 0
      },
      "text/plain": [
       "Train Model ::   0%|          | 0/100 [00:00<?, ?it/s]"
      ]
     },
     "metadata": {},
     "output_type": "display_data"
    },
    {
     "name": "stdout",
     "output_type": "stream",
     "text": [
      "\n",
      "\n",
      "Best-Gen \tmean :: 0.21753246753246752\tstd :: 0.26745268777817766\n",
      "Pond-Gen \tmean :: 0.34783549783549783\tstd :: 0.25979445682761326\n",
      "RFort-Gen \tmean :: 0.5525974025974026\tstd :: 0.2614751762927406\n",
      "=========================================================================== \n",
      "\n"
     ]
    },
    {
     "data": {
      "image/png": "[encoded data removed]",
      "text/plain": [
       "<Figure size 640x480 with 1 Axes>"
      ]
     },
     "metadata": {},
     "output_type": "display_data"
    }
   ],
   "source": [
    "best_gen_acc = []\n",
    "gen_acc = []\n",
    "rf_acc = []\n",
    "\n",
    "n_folds = 10\n",
    "kf = KFold(n_splits=n_folds)\n",
    "\n",
    "for train_index, test_index in tqdm(kf.split(X), desc='Eval Model', total=n_folds):\n",
    "    x_train, x_test = X[train_index], X[test_index]\n",
    "    y_train, y_test = Y[train_index], Y[test_index]\n",
    "\n",
    "    scaler = StandardScaler()\n",
    "    scaler.fit(x_train)\n",
    "\n",
    "    x_train = scaler.transform(x_train)\n",
    "    x_test = scaler.transform(x_test)\n",
    "\n",
    "    model = GenForest(features, targets,\n",
    "                      n_species=100, n_features=np.random.randint(16, 24),\n",
    "                      n_agents=200, epochs=200,\n",
    "                      n_deaths=10, rounds_deaths=20)\n",
    "    model.fit(x_train, y_train)\n",
    "\n",
    "    \n",
    "    pred = model.predict(x_test, bests=True)\n",
    "    best_gen_acc.append(accuracy(pred, y_test))\n",
    "\n",
    "    pred = model.predict(x_test)\n",
    "    gen_acc.append(accuracy(pred, y_test))\n",
    "\n",
    "    \n",
    "    rfc = RandomForestClassifier(n_estimators=100,\n",
    "                                 random_state=seed,\n",
    "                                 bootstrap=True)\n",
    "    \n",
    "    rfc.fit(x_train, y_train)\n",
    "    pred = rfc.predict(x_test)\n",
    "    rf_acc.append(accuracy(pred, y_test))\n",
    "\n",
    "\n",
    "print(f'\\n\\nBest-Gen \\tmean :: {np.mean(best_gen_acc)}\\tstd :: {np.std(best_gen_acc)}')\n",
    "print(f'Pond-Gen \\tmean :: {np.mean(gen_acc)}\\tstd :: {np.std(gen_acc)}')\n",
    "print(f'RFort-Gen \\tmean :: {np.mean(rf_acc)}\\tstd :: {np.std(rf_acc)}')\n",
    "print('=' * 75, '\\n')\n",
    "\n",
    "plt.plot(best_gen_acc, label='Best')\n",
    "plt.plot(gen_acc, label='Ponderate')\n",
    "plt.plot(rf_acc, label='RForest')\n",
    "\n",
    "plt.legend()\n",
    "plt.show()"
   ]
  }
 ],
 "metadata": {
  "kernelspec": {
   "display_name": "Python 3 (ipykernel)",
   "language": "python",
   "name": "python3"
  },
  "language_info": {
   "codemirror_mode": {
    "name": "ipython",
    "version": 3
   },
   "file_extension": ".py",
   "mimetype": "text/x-python",
   "name": "python",
   "nbconvert_exporter": "python",
   "pygments_lexer": "ipython3",
   "version": "3.11.5"
  }
 },
 "nbformat": 4,
 "nbformat_minor": 5
}
